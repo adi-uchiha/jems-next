{
 "cells": [
  {
   "cell_type": "code",
   "execution_count": 3,
   "metadata": {},
   "outputs": [
    {
     "name": "stdout",
     "output_type": "stream",
     "text": [
      "Defaulting to user installation because normal site-packages is not writeable\n",
      "Collecting python-jobspy\n",
      "  Downloading python_jobspy-1.1.76-py3-none-any.whl (38 kB)\n",
      "Requirement already satisfied: pandas<3.0.0,>=2.1.0 in /home/aditya/.local/lib/python3.10/site-packages (from python-jobspy) (2.2.3)\n",
      "Collecting regex<2025.0.0,>=2024.4.28\n",
      "  Downloading regex-2024.11.6-cp310-cp310-manylinux_2_17_x86_64.manylinux2014_x86_64.whl (781 kB)\n",
      "\u001b[2K     \u001b[38;2;114;156;31m━━━━━━━━━━━━━━━━━━━━━━━━━━━━━━━━━━━━━━━\u001b[0m \u001b[32m781.7/781.7 KB\u001b[0m \u001b[31m2.4 MB/s\u001b[0m eta \u001b[36m0:00:00\u001b[0mm eta \u001b[36m0:00:01\u001b[0m[36m0:00:01\u001b[0m\n",
      "\u001b[?25hCollecting markdownify<0.14.0,>=0.13.1\n",
      "  Downloading markdownify-0.13.1-py3-none-any.whl (10 kB)\n",
      "Collecting beautifulsoup4<5.0.0,>=4.12.2\n",
      "  Downloading beautifulsoup4-4.13.3-py3-none-any.whl (186 kB)\n",
      "\u001b[2K     \u001b[38;2;114;156;31m━━━━━━━━━━━━━━━━━━━━━━━━━━━━━━━━━━━━━━━\u001b[0m \u001b[32m186.0/186.0 KB\u001b[0m \u001b[31m2.6 MB/s\u001b[0m eta \u001b[36m0:00:00\u001b[0m MB/s\u001b[0m eta \u001b[36m0:00:01\u001b[0m\n",
      "\u001b[?25hRequirement already satisfied: requests<3.0.0,>=2.31.0 in /home/aditya/.local/lib/python3.10/site-packages (from python-jobspy) (2.32.3)\n",
      "Collecting NUMPY==1.26.3\n",
      "  Downloading numpy-1.26.3-cp310-cp310-manylinux_2_17_x86_64.manylinux2014_x86_64.whl (18.2 MB)\n",
      "\u001b[2K     \u001b[38;2;114;156;31m━━━━━━━━━━━━━━━━━━━━━━━━━━━━━━━━━━━━━━━━\u001b[0m \u001b[32m18.2/18.2 MB\u001b[0m \u001b[31m1.4 MB/s\u001b[0m eta \u001b[36m0:00:00\u001b[0mm eta \u001b[36m0:00:01\u001b[0m[36m0:00:01\u001b[0m\n",
      "\u001b[?25hCollecting tls-client<2.0.0,>=1.0.1\n",
      "  Downloading tls_client-1.0.1-py3-none-any.whl (41.3 MB)\n",
      "\u001b[2K     \u001b[38;2;114;156;31m━━━━━━━━━━━━━━━━━━━━━━━━━━━━━━━━━━━━━━━━\u001b[0m \u001b[32m41.3/41.3 MB\u001b[0m \u001b[31m1.7 MB/s\u001b[0m eta \u001b[36m0:00:00\u001b[0mm eta \u001b[36m0:00:01\u001b[0m[36m0:00:01\u001b[0m\n",
      "\u001b[?25hRequirement already satisfied: pydantic<3.0.0,>=2.3.0 in /home/aditya/.local/lib/python3.10/site-packages (from python-jobspy) (2.9.2)\n",
      "Requirement already satisfied: typing-extensions>=4.0.0 in /home/aditya/.local/lib/python3.10/site-packages (from beautifulsoup4<5.0.0,>=4.12.2->python-jobspy) (4.12.2)\n",
      "Requirement already satisfied: soupsieve>1.2 in /usr/lib/python3/dist-packages (from beautifulsoup4<5.0.0,>=4.12.2->python-jobspy) (2.3.1)\n",
      "Requirement already satisfied: six<2,>=1.15 in /usr/lib/python3/dist-packages (from markdownify<0.14.0,>=0.13.1->python-jobspy) (1.16.0)\n",
      "Requirement already satisfied: python-dateutil>=2.8.2 in /home/aditya/.local/lib/python3.10/site-packages (from pandas<3.0.0,>=2.1.0->python-jobspy) (2.8.2)\n",
      "Requirement already satisfied: tzdata>=2022.7 in /home/aditya/.local/lib/python3.10/site-packages (from pandas<3.0.0,>=2.1.0->python-jobspy) (2024.2)\n",
      "Requirement already satisfied: pytz>=2020.1 in /usr/lib/python3/dist-packages (from pandas<3.0.0,>=2.1.0->python-jobspy) (2022.1)\n",
      "Requirement already satisfied: annotated-types>=0.6.0 in /home/aditya/.local/lib/python3.10/site-packages (from pydantic<3.0.0,>=2.3.0->python-jobspy) (0.7.0)\n",
      "Requirement already satisfied: pydantic-core==2.23.4 in /home/aditya/.local/lib/python3.10/site-packages (from pydantic<3.0.0,>=2.3.0->python-jobspy) (2.23.4)\n",
      "Requirement already satisfied: urllib3<3,>=1.21.1 in /usr/lib/python3/dist-packages (from requests<3.0.0,>=2.31.0->python-jobspy) (1.26.5)\n",
      "Requirement already satisfied: certifi>=2017.4.17 in /usr/lib/python3/dist-packages (from requests<3.0.0,>=2.31.0->python-jobspy) (2020.6.20)\n",
      "Requirement already satisfied: idna<4,>=2.5 in /home/aditya/.local/lib/python3.10/site-packages (from requests<3.0.0,>=2.31.0->python-jobspy) (2.10)\n",
      "Requirement already satisfied: charset-normalizer<4,>=2 in /home/aditya/.local/lib/python3.10/site-packages (from requests<3.0.0,>=2.31.0->python-jobspy) (3.3.2)\n",
      "Installing collected packages: tls-client, regex, NUMPY, beautifulsoup4, markdownify, python-jobspy\n",
      "  Attempting uninstall: regex\n",
      "    Found existing installation: regex 2023.8.8\n",
      "    Uninstalling regex-2023.8.8:\n",
      "      Successfully uninstalled regex-2023.8.8\n",
      "  Attempting uninstall: NUMPY\n",
      "    Found existing installation: numpy 1.26.0\n",
      "    Uninstalling numpy-1.26.0:\n",
      "      Successfully uninstalled numpy-1.26.0\n",
      "\u001b[31mERROR: pip's dependency resolver does not currently take into account all the packages that are installed. This behaviour is the source of the following dependency conflicts.\n",
      "streamlit 1.38.0 requires pillow<11,>=7.1.0, but you have pillow 11.0.0 which is incompatible.\n",
      "genai 2.1.0 requires openai<0.28.0,>=0.27.0, but you have openai 1.59.6 which is incompatible.\n",
      "genai 2.1.0 requires tiktoken<0.4.0,>=0.3.2, but you have tiktoken 0.8.0 which is incompatible.\u001b[0m\u001b[31m\n",
      "\u001b[0mSuccessfully installed NUMPY-1.26.3 beautifulsoup4-4.13.3 markdownify-0.13.1 python-jobspy-1.1.76 regex-2024.11.6 tls-client-1.0.1\n",
      "Note: you may need to restart the kernel to use updated packages.\n"
     ]
    }
   ],
   "source": [
    "%pip install -U python-jobspy"
   ]
  },
  {
   "cell_type": "code",
   "execution_count": 5,
   "metadata": {},
   "outputs": [
    {
     "name": "stderr",
     "output_type": "stream",
     "text": [
      "2025-02-12 20:19:24,194 - INFO - JobSpy:Indeed - search page: 1 / 1\n",
      "2025-02-12 20:19:24,196 - INFO - JobSpy:LinkedIn - search page: 1 / 2\n",
      "2025-02-12 20:19:25,842 - INFO - JobSpy:Glassdoor - search page: 1 / 1\n",
      "2025-02-12 20:19:26,136 - INFO - JobSpy:Google - search page: 1 / 2\n",
      "2025-02-12 20:19:26,718 - INFO - JobSpy:Google - search page: 2 / 2\n",
      "2025-02-12 20:19:28,939 - INFO - JobSpy:Glassdoor - finished scraping\n",
      "2025-02-12 20:19:29,201 - INFO - JobSpy:Indeed - finished scraping\n",
      "2025-02-12 20:19:29,563 - INFO - JobSpy:Google - finished scraping\n",
      "2025-02-12 20:19:31,735 - INFO - JobSpy:LinkedIn - search page: 2 / 2\n",
      "2025-02-12 20:19:33,232 - INFO - JobSpy:Linkedin - finished scraping\n"
     ]
    },
    {
     "name": "stdout",
     "output_type": "stream",
     "text": [
      "Found 80 jobs\n",
      "                 id       site  \\\n",
      "0  gd-1009634556371  glassdoor   \n",
      "1  gd-1009634861013  glassdoor   \n",
      "2  gd-1009634541163  glassdoor   \n",
      "3  gd-1009634985053  glassdoor   \n",
      "4  gd-1009634748232  glassdoor   \n",
      "\n",
      "                                             job_url job_url_direct  \\\n",
      "0  https://www.glassdoor.com/job-listing/j?jl=100...            NaN   \n",
      "1  https://www.glassdoor.com/job-listing/j?jl=100...            NaN   \n",
      "2  https://www.glassdoor.com/job-listing/j?jl=100...            NaN   \n",
      "3  https://www.glassdoor.com/job-listing/j?jl=100...            NaN   \n",
      "4  https://www.glassdoor.com/job-listing/j?jl=100...            NaN   \n",
      "\n",
      "                                               title                company  \\\n",
      "0                Full-Stack Java Engineer, Associate  BlackRock Investments   \n",
      "1                               Sr Software Engineer                   Uber   \n",
      "2                  Senior Software Engineer, YouTube                YouTube   \n",
      "3  Software Engineer, Systems ML - Frameworks / C...                   Meta   \n",
      "4                 Platform Software Engineer - CI/CD                   Zoox   \n",
      "\n",
      "            location date_posted job_type salary_source  ...  \\\n",
      "0  San Francisco, CA  2025-02-12      NaN   direct_data  ...   \n",
      "1  San Francisco, CA  2025-02-12      NaN   direct_data  ...   \n",
      "2      San Bruno, CA  2025-02-12      NaN   direct_data  ...   \n",
      "3     Burlingame, CA  2025-02-12      NaN   direct_data  ...   \n",
      "4    Foster City, CA  2025-02-12      NaN   direct_data  ...   \n",
      "\n",
      "                    emails                                        description  \\\n",
      "0                      NaN  **Job description**\\n-------------------\\n\\n\\n...   \n",
      "1                      NaN  **About the Role**\\n  \\n\\n  \\n\\nWe are looking...   \n",
      "2                      NaN  **Minimum qualifications:**  \\n\\n* Bachelor’s ...   \n",
      "3              -ext@fb.com  In this role, you will be a member of the MTIA...   \n",
      "4  accommodations@zoox.com  At Zoox, we're developing cutting\\-edge autono...   \n",
      "\n",
      "   company_industry                                        company_url  \\\n",
      "0               NaN  https://www.glassdoor.com/Overview/W-EI_IE9331...   \n",
      "1               NaN  https://www.glassdoor.com/Overview/W-EI_IE5752...   \n",
      "2               NaN  https://www.glassdoor.com/Overview/W-EI_IE4080...   \n",
      "3               NaN  https://www.glassdoor.com/Overview/W-EI_IE4077...   \n",
      "4               NaN  https://www.glassdoor.com/Overview/W-EI_IE1159...   \n",
      "\n",
      "                                        company_logo company_url_direct  \\\n",
      "0  https://media.glassdoor.com/sql/9331/blackrock...                NaN   \n",
      "1  https://media.glassdoor.com/sql/575263/uber-sq...                NaN   \n",
      "2  https://media.glassdoor.com/sql/40803/youtube-...                NaN   \n",
      "3  https://media.glassdoor.com/sql/40772/meta-squ...                NaN   \n",
      "4  https://media.glassdoor.com/sql/1159617/zoox-s...                NaN   \n",
      "\n",
      "  company_addresses company_num_employees company_revenue company_description  \n",
      "0               NaN                   NaN             NaN                 NaN  \n",
      "1               NaN                   NaN             NaN                 NaN  \n",
      "2               NaN                   NaN             NaN                 NaN  \n",
      "3               NaN                   NaN             NaN                 NaN  \n",
      "4               NaN                   NaN             NaN                 NaN  \n",
      "\n",
      "[5 rows x 28 columns]\n"
     ]
    }
   ],
   "source": [
    "import csv\n",
    "from jobspy import scrape_jobs\n",
    "\n",
    "jobs = scrape_jobs(\n",
    "    site_name=[\"indeed\", \"linkedin\", \"glassdoor\", \"google\"],\n",
    "    search_term=\"software engineer\",\n",
    "    google_search_term=\"software engineer jobs near San Francisco, CA since yesterday\",\n",
    "    location=\"San Francisco, CA\",\n",
    "    results_wanted=20,\n",
    "    hours_old=72,\n",
    "    country_indeed='USA',\n",
    "    \n",
    "    # linkedin_fetch_description=True # gets more info such as description, direct job url (slower)\n",
    "    # proxies=[\"208.195.175.46:65095\", \"208.195.175.45:65095\", \"localhost\"],\n",
    ")\n",
    "print(f\"Found {len(jobs)} jobs\")\n",
    "print(jobs.head())\n",
    "jobs.to_csv(\"jobs.csv\", quoting=csv.QUOTE_NONNUMERIC, escapechar=\"\\\\\", index=False) # to_excel"
   ]
  },
  {
   "cell_type": "code",
   "execution_count": null,
   "metadata": {},
   "outputs": [],
   "source": []
  },
  {
   "cell_type": "code",
   "execution_count": null,
   "metadata": {},
   "outputs": [],
   "source": []
  },
  {
   "cell_type": "code",
   "execution_count": null,
   "metadata": {},
   "outputs": [],
   "source": []
  }
 ],
 "metadata": {
  "kernelspec": {
   "display_name": "Python 3",
   "language": "python",
   "name": "python3"
  },
  "language_info": {
   "codemirror_mode": {
    "name": "ipython",
    "version": 3
   },
   "file_extension": ".py",
   "mimetype": "text/x-python",
   "name": "python",
   "nbconvert_exporter": "python",
   "pygments_lexer": "ipython3",
   "version": "3.10.12"
  }
 },
 "nbformat": 4,
 "nbformat_minor": 4
}
